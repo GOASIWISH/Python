{
 "cells": [
  {
   "cell_type": "code",
   "execution_count": 8,
   "metadata": {},
   "outputs": [
    {
     "name": "stdout",
     "output_type": "stream",
     "text": [
      "Texas Roadhouse is a Steaks&Western Style Place\n",
      "Texas Roadhouse is now open.\n"
     ]
    }
   ],
   "source": [
    "# 9-1. Restauranr\n",
    "\n",
    "class Restaurant():\n",
    "    def __init__(self,c_name,c_type):\n",
    "        self.c_name = c_name\n",
    "        self.c_type = c_type\n",
    "    \n",
    "    def describe_restaurant(self):\n",
    "        print(self.c_name.title() + \" is a \" + self.c_type.title())\n",
    "    \n",
    "    def open_restaurant(self):\n",
    "        print (self.c_name.title() + \" is now open.\")\n",
    "        \n",
    "My_favoriate = Restaurant (\"Texas Roadhouse\",\"Steaks&Western style place\")\n",
    "\n",
    "My_favoriate.describe_restaurant()\n",
    "My_favoriate.open_restaurant()"
   ]
  },
  {
   "cell_type": "code",
   "execution_count": 9,
   "metadata": {},
   "outputs": [
    {
     "name": "stdout",
     "output_type": "stream",
     "text": [
      "Texas Roadhouse is a Steaks&Western Style Place\n",
      "Din Tai Fung is a Dim Sum\n",
      "Rachel'S Ginger Beer is a Beer Bar\n"
     ]
    }
   ],
   "source": [
    "# 9-2 Three Restaurants\n",
    "\n",
    "class Restaurant():\n",
    "    def __init__(self,c_name,c_type):\n",
    "        self.c_name = c_name\n",
    "        self.c_type = c_type\n",
    "    \n",
    "    def describe_restaurant(self):\n",
    "        print(self.c_name.title() + \" is a \" + self.c_type.title())\n",
    "    \n",
    "    def open_restaurant(self):\n",
    "        print (self.c_name.title() + \" is now open.\")\n",
    "        \n",
    "User_1 = Restaurant (\"Texas Roadhouse\",\"Steaks&Western style place\")\n",
    "User_2 = Restaurant (\"Din Tai Fung\",\"Dim Sum\")\n",
    "User_3 = Restaurant(\"Rachel's Ginger Beer\",\"Beer Bar\")\n",
    "\n",
    "\n",
    "User_1.describe_restaurant()\n",
    "User_2.describe_restaurant()\n",
    "User_3.describe_restaurant()"
   ]
  },
  {
   "cell_type": "code",
   "execution_count": 20,
   "metadata": {},
   "outputs": [
    {
     "name": "stdout",
     "output_type": "stream",
     "text": [
      "Hello Sophin! Welcome back to Canada at your 27 years old birthday\n",
      "Hello Shuangrun! Welcome back to US at your 28 years old birthday\n",
      "Hello Sophia! Welcome back to China at your 29 years old birthday\n"
     ]
    }
   ],
   "source": [
    "# 9-3. Users\n",
    "\n",
    "class User():\n",
    "    def __init__(self, first_name, last_name, origin, age):\n",
    "        self.first_name = first_name\n",
    "        self.last_name = last_name\n",
    "        self.origin = origin\n",
    "        self.age = age\n",
    "   \n",
    "    def describe_user(self):\n",
    "        print (self.first_name.title() + \" is a \" + age.title() +\" old person from \" + origin)\n",
    "    \n",
    "    def greet_user(self):\n",
    "        print (\"Hello \" + self.first_name.title() + \"! Welcome back to \" + self.origin +\" at your \" + self.age + \" years old birthday\")\n",
    "        \n",
    "User_1 =User(\"Sophin\", \"Leo\", \"Canada\",\"27\")\n",
    "User_2 =User(\"Shuangrun\", \"Green\", \"US\", \"28\")\n",
    "User_3 =User(\"Sophia\", \"Liu\", \"China\", \"29\")\n",
    "\n",
    "User_1.greet_user()\n",
    "User_2.greet_user()\n",
    "User_3.greet_user()"
   ]
  },
  {
   "cell_type": "code",
   "execution_count": 12,
   "metadata": {},
   "outputs": [
    {
     "name": "stdout",
     "output_type": "stream",
     "text": [
      "Texas Roadhouse is a Steaks&Western Style Place\n",
      "Texas Roadhouse is now open.\n",
      "This number 30 is how many people we served\n",
      "This number 33.0 is how many we served additionally\n"
     ]
    }
   ],
   "source": [
    "# 9-4\n",
    "\n",
    "class Restaurant():\n",
    "    def __init__(self,c_name,c_type, number_served,inc_number_served):\n",
    "        self.c_name = c_name\n",
    "        self.c_type = c_type\n",
    "        self.number_served = number_served\n",
    "        self.inc_number_served = inc_number_served\n",
    "    \n",
    "    def describe_restaurant(self):\n",
    "        print(self.c_name.title() + \" is a \" + self.c_type.title())\n",
    "    \n",
    "    def open_restaurant(self):\n",
    "        print (self.c_name.title() + \" is now open.\")\n",
    "     \n",
    "    def set_number_served(self):\n",
    "        print(\"This number \"+ str(self.number_served) + \" is how many people we served\")\n",
    "    \n",
    "    def increment_number_served(self):\n",
    "        print(\"This number \" + str(float(self.inc_number_served) + float(self.number_served)) + \" is how many we served additionally\")\n",
    "\n",
    "My_favoriate = Restaurant (\"Texas Roadhouse\",\"Steaks&Western style place\", 30, 3)\n",
    "\n",
    "My_favoriate.describe_restaurant()\n",
    "My_favoriate.open_restaurant()\n",
    "My_favoriate.set_number_served()\n",
    "My_favoriate.increment_number_served()"
   ]
  },
  {
   "cell_type": "code",
   "execution_count": 25,
   "metadata": {},
   "outputs": [
    {
     "name": "stdout",
     "output_type": "stream",
     "text": [
      "Hello, this is your 50 times\n",
      "Hello, this is your 55 times\n"
     ]
    }
   ],
   "source": [
    "# 9-5\n",
    "\n",
    "class User():\n",
    "    def __init__(self, first_name, last_name, origin, age):\n",
    "        self.first_name = first_name\n",
    "        self.last_name = last_name\n",
    "        self.origin = origin\n",
    "        self.age = age\n",
    "        self.login_attempts_reading = 0\n",
    "   \n",
    "    def describe_user(self):\n",
    "        print (self.first_name.title() + \" is a \" + self.age.title() +\" old person from \" + self.origin)\n",
    "    \n",
    "    def greet_user(self):\n",
    "        print (\"Hello \" + self.first_name.title() + \"! Welcome back to \" + self.origin +\" at your \" + self.age + \" years old birthday\")\n",
    "    \n",
    "    def read_login_attempts(self):\n",
    "        print(\"Hello, this is your \" + str(self.login_attempts_reading) + \" times\")\n",
    "        \n",
    "    def update_login_attempts(self, new_attempts):\n",
    "        self.login_attempts_reading = new_attempts\n",
    "        \n",
    "    def increment_login_attempts(self, inc_attempts):\n",
    "        self.login_attempts_reading += inc_attempts\n",
    "        \n",
    "    \n",
    "User_1 =User(\"Sophin\", \"Leo\", \"Canada\",\"27\")\n",
    "# print(User_1.describe_user())\n",
    "\n",
    "User_1.update_login_attempts(50)\n",
    "\n",
    "User_1.increment_login_attempts(5)\n",
    "User_1.read_login_attempts()"
   ]
  },
  {
   "cell_type": "code",
   "execution_count": 18,
   "metadata": {},
   "outputs": [
    {
     "name": "stdout",
     "output_type": "stream",
     "text": [
      "Molly Moon is a Earl Grey\n"
     ]
    }
   ],
   "source": [
    "# 9-6. Ice Cream Stand:\n",
    "\n",
    "class Restaurant():\n",
    "    def __init__(self,c_name,c_type):\n",
    "        self.c_name = c_name\n",
    "        self.c_type = c_type\n",
    "    \n",
    "    def describe_restaurant(self):\n",
    "        print(str(self.c_name.title()) + \" is a \" + str(self.c_type.title()))\n",
    "\n",
    "class IceCreamStand(Restaurant):\n",
    "    def __init__ (self,c_name,c_type):\n",
    "        super(IceCreamStand,self).__init__(c_name,c_type)\n",
    "    \n",
    "Flavor1 = IceCreamStand(\"Molly Moon\",\"EARL GREY\")\n",
    "Flavor1.describe_restaurant()"
   ]
  },
  {
   "cell_type": "code",
   "execution_count": 13,
   "metadata": {},
   "outputs": [
    {
     "name": "stdout",
     "output_type": "stream",
     "text": [
      "Sophin from Canada\n",
      "\n",
      "Privileges: \n",
      "- can add post\n",
      "- can delete post\n",
      "- can ban user\n"
     ]
    }
   ],
   "source": [
    "# 9-7 \n",
    "\n",
    "class User():\n",
    "    def __init__(self, first_name, last_name, origin):\n",
    "        self.first_name = first_name\n",
    "        self.last_name = last_name\n",
    "        self.origin = origin\n",
    "   \n",
    "    def describe_user(self):\n",
    "        print (self.first_name.title() + \" from \" + self.origin.title())\n",
    "    \n",
    "class Admin(User):\n",
    "    def __init__(self,first_name,last_name,origin):\n",
    "        super(Admin, self).__init__(first_name,last_name, origin)\n",
    "        self.privilege = []\n",
    "    def show_privileges(self):\n",
    "        print (\"\\nPrivileges: \")\n",
    "        for privilege in self.privileges:\n",
    "            print (\"- \" + privilege)\n",
    "\n",
    "User_1 =Admin(\"Sophin\", \"Leo\", \"Canada\")\n",
    "User_1.describe_user()\n",
    "\n",
    "User_1.privileges = [\"can add post\", \"can delete post\",\"can ban user\"]\n",
    "User_1.show_privileges()"
   ]
  },
  {
   "cell_type": "code",
   "execution_count": 29,
   "metadata": {},
   "outputs": [
    {
     "name": "stdout",
     "output_type": "stream",
     "text": [
      "Sophin Leo Can Not Add People\n"
     ]
    }
   ],
   "source": [
    "#9-8 \n",
    "class User():\n",
    "    def __init__(self, first_name, last_name, origin):\n",
    "        self.first_name = first_name\n",
    "        self.last_name = last_name\n",
    "        self.origin = origin\n",
    "   \n",
    "    def describe_user(self):\n",
    "        print (self.first_name.title() + \" from \" + self.origin.title())\n",
    "    \n",
    "class Admin(User):\n",
    "    def __init__(self,first_name,last_name,origin):\n",
    "        super(Admin, self).__init__(first_name,last_name, origin)\n",
    "            \n",
    "class Privileges(Admin):\n",
    "    def __init__(self,first_name,last_name,origin):\n",
    "        super(Privileges,self).__init__(first_name,last_name,origin)\n",
    "        self.privileges = \"can not add people\"\n",
    "    \n",
    "    def show_privileges(self):\n",
    "        print (self.first_name.title() +\" \"+ self.last_name.title() +\" \" + self.privileges.title())\n",
    "        \n",
    "User_1 =Privileges(\"Sophin\", \"Leo\", \"Canada\")\n",
    "\n",
    "User_1.show_privileges()"
   ]
  },
  {
   "cell_type": "code",
   "execution_count": 37,
   "metadata": {},
   "outputs": [
    {
     "data": {
      "text/plain": [
       "<bound method ElectricCar.upgrade_battery of <__main__.ElectricCar object at 0x000001B7A0A62470>>"
      ]
     },
     "execution_count": 37,
     "metadata": {},
     "output_type": "execute_result"
    }
   ],
   "source": [
    "# 9-9\n",
    "\n",
    "class Car():\n",
    "    def __init__(self, make, model, year):\n",
    "        self.make = make\n",
    "        self.model = model\n",
    "        self.year = year\n",
    "        self.odometer_reading = 0\n",
    "    def get_descriptive_name(self):\n",
    "        print (str(self.year.title()) + \" \" + self.make.title() )\n",
    "\n",
    "class ElectricCar(Car):\n",
    "    def __init__(self, make, model, year):\n",
    "        super(ElectricCar,self).__init__(make, model, year)\n",
    "        \n",
    "    def get_range(self):\n",
    "        if self.battery_size == 70:\n",
    "            range = 240\n",
    "        elif self.battery_size == 85:\n",
    "            range = 270    \n",
    "    \n",
    "    def upgrade_battery(self):\n",
    "        if self.battery_size == 60:\n",
    "            self.battery_size = 85\n",
    "            print (\"upgraded to 85 kwh.\")\n",
    "        else:\n",
    "            print(\"The battery is upgraded\")\n",
    "    \n",
    "my_tesla = ElectricCar(\"Tesla\",\"Model T\", \"2018\")\n",
    "my_tesla.upgrade_battery"
   ]
  },
  {
   "cell_type": "code",
   "execution_count": null,
   "metadata": {},
   "outputs": [],
   "source": [
    "#9-10.\n",
    "\n",
    "from restaurant import Restaurant\n",
    "\n",
    "my_new_restaurant = Restaurant(\"Molly Day\",\"EARL GREY\")\n",
    "print(my_new_restaurant.describe_restaurant())"
   ]
  },
  {
   "cell_type": "code",
   "execution_count": null,
   "metadata": {},
   "outputs": [],
   "source": [
    "# 9-11\n",
    "\n",
    "from user import Admin\n",
    "\n",
    "User_1 = Admin(\"Sophin\", \"Leo\", \"Canada\")\n",
    "User_1.describe_user()\n",
    "\n",
    "User_1_privileges = [ \"can reset passwords\", \"can moderate discussions\", \"can suspend accounts\"]\n",
    "User_1.privileges.privileges = User_1_privileges\n",
    "\n",
    "print(\"\\nThe admin \" + User_1.username + \" has these privileges: \")\n",
    "User_1.privileges.show_privileges()"
   ]
  },
  {
   "cell_type": "code",
   "execution_count": null,
   "metadata": {},
   "outputs": [],
   "source": [
    "# 9-12.\n",
    "\n",
    "from admin import Admin\n",
    "\n",
    "User_1 = Admin(\"Sophin\", \"Leo\", \"Canada\")\n",
    "User_1.describe_user()\n",
    "\n",
    "User_1_privileges = [ \"can reset passwords\", \"can moderate discussions\", \"can suspend accounts\"]\n",
    "User_1.privileges.privileges = User_1_privileges\n",
    "\n",
    "print(\"\\nThe admin \" + User_1.username + \" has these privileges: \")\n",
    "User_1.privileges.show_privileges()"
   ]
  }
 ],
 "metadata": {
  "kernelspec": {
   "display_name": "Python 3",
   "language": "python",
   "name": "python3"
  },
  "language_info": {
   "codemirror_mode": {
    "name": "ipython",
    "version": 3
   },
   "file_extension": ".py",
   "mimetype": "text/x-python",
   "name": "python",
   "nbconvert_exporter": "python",
   "pygments_lexer": "ipython3",
   "version": "3.6.5"
  }
 },
 "nbformat": 4,
 "nbformat_minor": 2
}
